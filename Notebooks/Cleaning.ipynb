{
 "cells": [
  {
   "cell_type": "markdown",
   "metadata": {},
   "source": [
    "## Data Wrangling"
   ]
  },
  {
   "cell_type": "code",
   "execution_count": null,
   "metadata": {},
   "outputs": [],
   "source": [
    "import numpy as np\n",
    "import pandas as pd\n",
    "from sklearn.preprocessing import StandardScaler"
   ]
  },
  {
   "cell_type": "code",
   "execution_count": null,
   "metadata": {},
   "outputs": [],
   "source": [
    "financials = pd.read_csv(\"/Users/sa12/Documents/Repositories/FinancialFraudDetection/FraudData/financials.csv\", index_col=0)"
   ]
  },
  {
   "cell_type": "code",
   "execution_count": null,
   "metadata": {},
   "outputs": [],
   "source": [
    "financials.drop(columns=['nameOrig', 'nameDest','isFlaggedFraud','type'],inplace=True)\n",
    "financials.rename(columns={'amount':'Amount','oldbalanceOrg':'OldOrig','newbalanceOrig':'NewOrig','oldbalanceDest':'OldDest','newbalanceDest':'NewDest', 'isFraud':'Fraud'}, inplace=True)\n",
    "financials.head()"
   ]
  },
  {
   "cell_type": "code",
   "execution_count": null,
   "metadata": {},
   "outputs": [],
   "source": [
    "numerical_columns = ['Amount','OldOrig','NewOrig','OldDest', 'NewDest']\n",
    "# create a standard scaler object\n",
    "scaler = StandardScaler()\n",
    "# Scale the numerical columns\n",
    "scaled_values = scaler.fit_transform(tiny_financials[numerical_columns])\n",
    "scaled_financials = pd.DataFrame(scaled_values, columns=(numerical_columns))\n",
    "#put the isFraud column back to visualize fraud across distributions\n",
    "scaled_financials = scaled_financials.merge(tiny_financials['isFraud'], how='left', on=scaled_financials.index, right_index=False)"
   ]
  }
 ],
 "metadata": {
  "language_info": {
   "name": "python"
  }
 },
 "nbformat": 4,
 "nbformat_minor": 2
}
